{
  "cells": [
    {
      "cell_type": "raw",
      "metadata": {},
      "source": [
        "---\n",
        "title: \"Placeholders and wildcards\"\n",
        "format: revealjs\n",
        "---"
      ],
      "id": "a51abc9d"
    },
    {
      "cell_type": "markdown",
      "metadata": {},
      "source": [
        "## Challenge 1\n",
        "\n",
        "Modify your Snakefile to incorporate the changes discussed up to this point, using the wildcard and input/output placeholders.\n",
        "\n",
        "```\n",
        "rule countreads:\n",
        "  output: \"{myfile}.fq.count\"\n",
        "  input:  \"reads/{myfile}.fq\"\n",
        "  shell:\n",
        "    \"echo $(( $(wc -l <{input}) / 4 )) > {output}\"\n",
        "```\n",
        "\n",
        "Delete the now-redundant second rule, so your Snakefile should contain just one rule named *countreads*.\n",
        "\n",
        "Using this new rule, determine how many reads are in the `temp33_1_1.fq` file.\n",
        "\n",
        "## Challenge 2\n",
        "\n",
        "Our rule puts the sequence counts into output files named like `ref1_1.fq.count`. How would you have to change the \"countreads\" rule definition if you wanted:\n",
        "\n",
        "1. the output file for `reads/ref1_1.fq` to be `counts/ref1_1.txt`?\n",
        "\n",
        "2. the output file for `reads/ref1_1.fq` to be `ref1_counts/fq.1.count` (for `reads/ref1_2.fq` to be `ref1_counts/fq.2.count`, etc...)?\n",
        "\n",
        "3. the output file for `reads/ref1_1.fq` to be `countreads_1.txt`?\n",
        "\n",
        "## Challenge 3\n",
        "\n",
        "Here is a command that will trim and filter low quality reads from a FASTQ file.\n",
        "\n",
        "\n",
        "```{bash}\n",
        "fastq_quality_trimmer -t 20 -l 100 -o output.fq <input.fq\n",
        "```"
      ],
      "id": "59e2e60d"
    }
  ],
  "metadata": {
    "kernelspec": {
      "display_name": "Python 3",
      "language": "python",
      "name": "python3"
    }
  },
  "nbformat": 4,
  "nbformat_minor": 5
}